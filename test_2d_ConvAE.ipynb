{
 "cells": [
  {
   "cell_type": "markdown",
   "metadata": {},
   "source": [
    "#### Imports etc"
   ]
  },
  {
   "cell_type": "code",
   "execution_count": 1,
   "metadata": {},
   "outputs": [],
   "source": [
    "nb_samples = 64\n",
    "# list_features = [\"longitude\", \"latitude\", \"groundspeed\"] #, \"track\"] #, \"altitude\"]\n",
    "# list_features = [\"longitude\", \"latitude\", \"track\"] #, \"track\"] #, \"altitude\"]\n",
    "list_features = [\"longitude\", \"latitude\"]  # , \"track\"] #, \"altitude\"]\n",
    "input_dim = len(list_features)"
   ]
  },
  {
   "cell_type": "code",
   "execution_count": 2,
   "metadata": {},
   "outputs": [],
   "source": [
    "%load_ext autoreload\n",
    "%autoreload 2"
   ]
  },
  {
   "cell_type": "code",
   "execution_count": 3,
   "metadata": {},
   "outputs": [
    {
     "name": "stderr",
     "output_type": "stream",
     "text": [
      "/var/folders/6r/vdmz5zjj6_d8769grj_ht__80000gn/T/ipykernel_3104/2398213321.py:22: TqdmExperimentalWarning: Using `tqdm.autonotebook.tqdm` in notebook mode. Use `tqdm.tqdm` instead to force console mode (e.g. in jupyter console)\n",
      "  from tqdm.autonotebook import tqdm\n"
     ]
    }
   ],
   "source": [
    "from traffic.core import Flight, Traffic\n",
    "\n",
    "from trajectory_clustering.feature_preparation import fit_scaler, prepare_features, traffic_from_features\n",
    "\n",
    "import wandb\n",
    "from pathlib import Path\n",
    "\n",
    "import matplotlib.pyplot as plt\n",
    "import matplotlib as mpl\n",
    "%matplotlib inline\n",
    "\n",
    "import numpy as np\n",
    "import pandas as pd\n",
    "pd.set_option(\"display.max_columns\", None)\n",
    "\n",
    "import torch\n",
    "import torch.nn as nn\n",
    "import torch.nn.functional as F\n",
    "import torch.optim as optim\n",
    "from torch.utils.data import Dataset, DataLoader, TensorDataset\n",
    "\n",
    "from tqdm.autonotebook import tqdm\n",
    "\n",
    "\n",
    "np.random.seed(0)\n",
    "\n",
    "torch.manual_seed(0)\n",
    "\n",
    "t = Traffic.from_file(\"./data/resampled_t_near_ap.parquet\")\n"
   ]
  },
  {
   "cell_type": "markdown",
   "metadata": {},
   "source": [
    "#### Get features"
   ]
  },
  {
   "cell_type": "code",
   "execution_count": 4,
   "metadata": {},
   "outputs": [
    {
     "data": {
      "text/html": [
       "<h4><b>Traffic</b></h4> with 2617 identifiers<style type=\"text/css\">\n",
       "#T_dae9b_row0_col0, #T_dae9b_row1_col0, #T_dae9b_row2_col0, #T_dae9b_row3_col0, #T_dae9b_row4_col0, #T_dae9b_row5_col0, #T_dae9b_row6_col0, #T_dae9b_row7_col0, #T_dae9b_row8_col0, #T_dae9b_row9_col0 {\n",
       "  width: 10em;\n",
       "  background: linear-gradient(90deg, #5fba7d 100.0%, transparent 100.0%);\n",
       "}\n",
       "</style>\n",
       "<table id=\"T_dae9b\">\n",
       "  <thead>\n",
       "    <tr>\n",
       "      <th class=\"blank level0\" >&nbsp;</th>\n",
       "      <th id=\"T_dae9b_level0_col0\" class=\"col_heading level0 col0\" >count</th>\n",
       "    </tr>\n",
       "    <tr>\n",
       "      <th class=\"index_name level0\" >flight_id</th>\n",
       "      <th class=\"blank col0\" >&nbsp;</th>\n",
       "    </tr>\n",
       "  </thead>\n",
       "  <tbody>\n",
       "    <tr>\n",
       "      <th id=\"T_dae9b_level0_row0\" class=\"row_heading level0 row0\" >AAL93_7720</th>\n",
       "      <td id=\"T_dae9b_row0_col0\" class=\"data row0 col0\" >64</td>\n",
       "    </tr>\n",
       "    <tr>\n",
       "      <th id=\"T_dae9b_level0_row1\" class=\"row_heading level0 row1\" >SWR25P_4024</th>\n",
       "      <td id=\"T_dae9b_row1_col0\" class=\"data row1 col0\" >64</td>\n",
       "    </tr>\n",
       "    <tr>\n",
       "      <th id=\"T_dae9b_level0_row2\" class=\"row_heading level0 row2\" >SWR252H_6245</th>\n",
       "      <td id=\"T_dae9b_row2_col0\" class=\"data row2 col0\" >64</td>\n",
       "    </tr>\n",
       "    <tr>\n",
       "      <th id=\"T_dae9b_level0_row3\" class=\"row_heading level0 row3\" >SWR252H_6246</th>\n",
       "      <td id=\"T_dae9b_row3_col0\" class=\"data row3 col0\" >64</td>\n",
       "    </tr>\n",
       "    <tr>\n",
       "      <th id=\"T_dae9b_level0_row4\" class=\"row_heading level0 row4\" >SWR2530_3232</th>\n",
       "      <td id=\"T_dae9b_row4_col0\" class=\"data row4 col0\" >64</td>\n",
       "    </tr>\n",
       "    <tr>\n",
       "      <th id=\"T_dae9b_level0_row5\" class=\"row_heading level0 row5\" >SWR253J_1323</th>\n",
       "      <td id=\"T_dae9b_row5_col0\" class=\"data row5 col0\" >64</td>\n",
       "    </tr>\n",
       "    <tr>\n",
       "      <th id=\"T_dae9b_level0_row6\" class=\"row_heading level0 row6\" >SWR253J_1371</th>\n",
       "      <td id=\"T_dae9b_row6_col0\" class=\"data row6 col0\" >64</td>\n",
       "    </tr>\n",
       "    <tr>\n",
       "      <th id=\"T_dae9b_level0_row7\" class=\"row_heading level0 row7\" >SWR253J_1539</th>\n",
       "      <td id=\"T_dae9b_row7_col0\" class=\"data row7 col0\" >64</td>\n",
       "    </tr>\n",
       "    <tr>\n",
       "      <th id=\"T_dae9b_level0_row8\" class=\"row_heading level0 row8\" >SWR253J_1743</th>\n",
       "      <td id=\"T_dae9b_row8_col0\" class=\"data row8 col0\" >64</td>\n",
       "    </tr>\n",
       "    <tr>\n",
       "      <th id=\"T_dae9b_level0_row9\" class=\"row_heading level0 row9\" >SWR253J_3444</th>\n",
       "      <td id=\"T_dae9b_row9_col0\" class=\"data row9 col0\" >64</td>\n",
       "    </tr>\n",
       "  </tbody>\n",
       "</table>\n"
      ],
      "text/plain": [
       "      flight_id  count\n",
       "0    AAL93_7720     64\n",
       "1   SWR25P_4024     64\n",
       "2  SWR252H_6245     64\n",
       "3  SWR252H_6246     64\n",
       "4  SWR2530_3232     64\n",
       "5  SWR253J_1323     64\n",
       "6  SWR253J_1371     64\n",
       "7  SWR253J_1539     64\n",
       "8  SWR253J_1743     64\n",
       "9  SWR253J_3444     64"
      ]
     },
     "execution_count": 4,
     "metadata": {},
     "output_type": "execute_result"
    }
   ],
   "source": [
    "t_f = t.query(\"runway_name == '28'\")\n",
    "t_f"
   ]
  },
  {
   "cell_type": "code",
   "execution_count": 5,
   "metadata": {},
   "outputs": [
    {
     "data": {
      "text/plain": [
       "(array([0.025886, 0.026745]),\n",
       " array([ 8.544617, 47.440933]),\n",
       " array([ 8.570503, 47.467678]))"
      ]
     },
     "execution_count": 5,
     "metadata": {},
     "output_type": "execute_result"
    }
   ],
   "source": [
    "scaler = fit_scaler(t_f.data[list_features].to_numpy())\n",
    "scaler.data_range_, scaler.data_min_, scaler.data_max_"
   ]
  },
  {
   "cell_type": "code",
   "execution_count": 8,
   "metadata": {},
   "outputs": [
    {
     "data": {
      "text/plain": [
       "array([[-0.1233099 ,  0.59521407, -0.13659893, ...,  0.17674331,\n",
       "         0.866337  ,  0.18003365],\n",
       "       [-0.1684308 ,  0.6174986 , -0.17569342, ...,  0.2714152 ,\n",
       "         0.7207757 ,  0.2714152 ],\n",
       "       [-0.13791238,  0.6106188 , -0.1457931 , ...,  0.17584595,\n",
       "         0.87035465,  0.18003365],\n",
       "       ...,\n",
       "       [-0.04921579,  0.00512245, -0.04643437, ...,  0.17741634,\n",
       "         0.9139303 ,  0.1783137 ],\n",
       "       [-0.09549563, -0.00213124, -0.09147802, ...,  0.17569639,\n",
       "         0.9030364 ,  0.1783137 ],\n",
       "       [ 0.05833269,  0.05522528,  0.07185351, ...,  0.17928585,\n",
       "         0.9629143 ,  0.18018322]], dtype=float32)"
      ]
     },
     "metadata": {},
     "output_type": "display_data"
    },
    {
     "data": {
      "text/plain": [
       "array([[[-0.1233099 ,  0.59521407],\n",
       "        [-0.13659893,  0.6088989 ],\n",
       "        [-0.15514177,  0.6131613 ],\n",
       "        ...,\n",
       "        [ 0.9261377 ,  0.17651898],\n",
       "        [ 0.9231245 ,  0.17674331],\n",
       "        [ 0.866337  ,  0.18003365]],\n",
       "\n",
       "       [[-0.1684308 ,  0.6174986 ],\n",
       "        [-0.17569342,  0.6186203 ],\n",
       "        [-0.17569342,  0.61779773],\n",
       "        ...,\n",
       "        [ 0.7207757 ,  0.2714152 ],\n",
       "        [ 0.7207757 ,  0.2714152 ],\n",
       "        [ 0.7207757 ,  0.2714152 ]],\n",
       "\n",
       "       [[-0.13791238,  0.6106188 ],\n",
       "        [-0.1457931 ,  0.6134605 ],\n",
       "        [-0.15259214,  0.6134605 ],\n",
       "        ...,\n",
       "        [ 0.9788303 ,  0.18100579],\n",
       "        [ 0.9337093 ,  0.17584595],\n",
       "        [ 0.87035465,  0.18003365]],\n",
       "\n",
       "       ...,\n",
       "\n",
       "       [[-0.04921579,  0.00512245],\n",
       "        [-0.04643437,  0.01925594],\n",
       "        [-0.04233949,  0.03907272],\n",
       "        ...,\n",
       "        [ 0.9356409 ,  0.17741634],\n",
       "        [ 0.9356409 ,  0.17741634],\n",
       "        [ 0.9139303 ,  0.1783137 ]],\n",
       "\n",
       "       [[-0.09549563, -0.00213124],\n",
       "        [-0.09147802,  0.02179847],\n",
       "        [-0.09812254,  0.04154047],\n",
       "        ...,\n",
       "        [ 0.9509387 ,  0.17584595],\n",
       "        [ 0.9506297 ,  0.17569639],\n",
       "        [ 0.9030364 ,  0.1783137 ]],\n",
       "\n",
       "       [[ 0.05833269,  0.05522528],\n",
       "        [ 0.07185351,  0.05380445],\n",
       "        [ 0.11272503,  0.05118714],\n",
       "        ...,\n",
       "        [ 0.9774395 ,  0.17420079],\n",
       "        [ 0.9668547 ,  0.17928585],\n",
       "        [ 0.9629143 ,  0.18018322]]], dtype=float32)"
      ]
     },
     "metadata": {},
     "output_type": "display_data"
    },
    {
     "data": {
      "text/plain": [
       "(2617, 2, 64)"
      ]
     },
     "execution_count": 8,
     "metadata": {},
     "output_type": "execute_result"
    }
   ],
   "source": [
    "X, flight_order = prepare_features(t_f, list_features, scaler)\n",
    "X\n",
    "display(X)\n",
    "display(X.reshape((X.shape[0], 64, len(list_features))))\n",
    "\n",
    "X = X.reshape(-1, 64, 2).swapaxes(1, 2)\n",
    "X.shape"
   ]
  },
  {
   "cell_type": "markdown",
   "metadata": {},
   "source": [
    "#### Transform the features in an image"
   ]
  },
  {
   "cell_type": "code",
   "execution_count": 12,
   "metadata": {},
   "outputs": [
    {
     "data": {
      "text/plain": [
       "(-1.0, 1.0)"
      ]
     },
     "execution_count": 12,
     "metadata": {},
     "output_type": "execute_result"
    },
    {
     "data": {
      "image/png": "[encoded data removed]",
      "text/plain": [
       "<Figure size 640x480 with 1 Axes>"
      ]
     },
     "metadata": {},
     "output_type": "display_data"
    }
   ],
   "source": [
    "plt.plot(X[0, 0, :], X[0, 1, :])\n",
    "plt.xlim(-1, 1)\n",
    "plt.ylim(-1, 1)\n"
   ]
  },
  {
   "cell_type": "code",
   "execution_count": 19,
   "metadata": {},
   "outputs": [
    {
     "data": {
      "text/plain": [
       "(2, 64)"
      ]
     },
     "execution_count": 19,
     "metadata": {},
     "output_type": "execute_result"
    }
   ],
   "source": [
    "flight_X = X[0].copy()\n",
    "flight_X.shape"
   ]
  },
  {
   "cell_type": "code",
   "execution_count": 20,
   "metadata": {},
   "outputs": [
    {
     "data": {
      "text/plain": [
       "array([[28, 27, 27, 26, 26, 27, 27, 27, 27, 27, 27, 27, 27, 27, 27, 27,\n",
       "        27, 27, 27, 27, 27, 28, 29, 30, 31, 32, 33, 33, 33, 33, 33, 33,\n",
       "        33, 34, 35, 36, 37, 39, 40, 41, 42, 44, 45, 47, 48, 49, 51, 51,\n",
       "        54, 55, 58, 60, 60, 61, 62, 62, 63, 63, 63, 62, 61, 61, 61, 59],\n",
       "       [51, 51, 51, 51, 51, 51, 51, 51, 51, 51, 51, 51, 51, 51, 51, 51,\n",
       "        51, 51, 51, 51, 51, 51, 51, 51, 51, 51, 51, 51, 51, 51, 51, 51,\n",
       "        51, 51, 51, 51, 50, 49, 49, 48, 47, 45, 44, 43, 43, 42, 41, 41,\n",
       "        40, 40, 40, 40, 40, 40, 40, 40, 39, 39, 38, 37, 37, 37, 37, 37]],\n",
       "      dtype=int32)"
      ]
     },
     "execution_count": 20,
     "metadata": {},
     "output_type": "execute_result"
    }
   ],
   "source": [
    "flight_X = (flight_X + 1) * 32\n",
    "flight_X = flight_X.astype(np.int32)\n",
    "flight_X"
   ]
  },
  {
   "cell_type": "code",
   "execution_count": 44,
   "metadata": {},
   "outputs": [],
   "source": [
    "from scipy.interpolate import interp1d\n",
    "\n",
    "inter_points = 512\n",
    "t = np.linspace(0, 64, 512)\n",
    "# Create interpolation functions for x and y coordinates\n",
    "# interp_x = interp1d(t, np.arange(inter_points), flight_X[0], kind='linear')\n",
    "interp_x = np.interp(t, np.arange(64), flight_X[0])\n",
    "interp_y = np.interp(t, np.arange(64), flight_X[1])\n"
   ]
  },
  {
   "cell_type": "code",
   "execution_count": 65,
   "metadata": {},
   "outputs": [],
   "source": [
    "# Create a 32 * 32 matrix\n",
    "image_matrix = np.zeros((64, 64))\n",
    "\n",
    "# Map the trajectory points to the matrix and fill the cells\n",
    "for i in range(inter_points):\n",
    "    x_pixel = int(interp_x[i])\n",
    "    y_pixel = int(64 - interp_y[i])\n",
    "    # image_matrix[y_pixel, x_pixel] += 1  # Mark the path\n",
    "    if image_matrix[y_pixel, x_pixel] == 5:\n",
    "        continue\n",
    "    image_matrix[y_pixel, x_pixel] += 1  # Mark the path\n"
   ]
  },
  {
   "cell_type": "code",
   "execution_count": 52,
   "metadata": {},
   "outputs": [],
   "source": [
    "from scipy.ndimage import gaussian_filter"
   ]
  },
  {
   "cell_type": "code",
   "execution_count": 66,
   "metadata": {},
   "outputs": [],
   "source": [
    "filtered = gaussian_filter(image_matrix, sigma=0.5)"
   ]
  },
  {
   "cell_type": "code",
   "execution_count": 67,
   "metadata": {},
   "outputs": [
    {
     "data": {
      "text/plain": [
       "<matplotlib.image.AxesImage at 0x131bad0d0>"
      ]
     },
     "execution_count": 67,
     "metadata": {},
     "output_type": "execute_result"
    },
    {
     "data": {
      "image/png": "[encoded data removed]",
      "text/plain": [
       "<Figure size 640x480 with 1 Axes>"
      ]
     },
     "metadata": {},
     "output_type": "display_data"
    }
   ],
   "source": [
    "plt.imshow(filtered, cmap='gray')"
   ]
  },
  {
   "cell_type": "code",
   "execution_count": 68,
   "metadata": {},
   "outputs": [
    {
     "data": {
      "text/plain": [
       "<matplotlib.image.AxesImage at 0x131bf6010>"
      ]
     },
     "execution_count": 68,
     "metadata": {},
     "output_type": "execute_result"
    },
    {
     "data": {
      "image/png": "[encoded data removed]",
      "text/plain": [
       "<Figure size 640x480 with 1 Axes>"
      ]
     },
     "metadata": {},
     "output_type": "display_data"
    }
   ],
   "source": [
    "plt.imshow(image_matrix, cmap='gray')"
   ]
  },
  {
   "cell_type": "code",
   "execution_count": null,
   "metadata": {},
   "outputs": [],
   "source": [
    "def \n",
    "inter_points = 512\n",
    "t = np.linspace(0, 64, 512)\n",
    "# Create interpolation functions for x and y coordinates\n",
    "# interp_x = interp1d(t, np.arange(inter_points), flight_X[0], kind='linear')\n",
    "interp_x = np.interp(t, np.arange(64), flight_X[0])\n",
    "interp_y = np.interp(t, np.arange(64), flight_X[1])\n"
   ]
  }
 ],
 "metadata": {
  "kernelspec": {
   "display_name": "artefact",
   "language": "python",
   "name": "python3"
  },
  "language_info": {
   "codemirror_mode": {
    "name": "ipython",
    "version": 3
   },
   "file_extension": ".py",
   "mimetype": "text/x-python",
   "name": "python",
   "nbconvert_exporter": "python",
   "pygments_lexer": "ipython3",
   "version": "3.11.4"
  },
  "orig_nbformat": 4
 },
 "nbformat": 4,
 "nbformat_minor": 2
}
